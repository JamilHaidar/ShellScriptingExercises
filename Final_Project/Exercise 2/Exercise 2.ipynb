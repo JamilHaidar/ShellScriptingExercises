{
 "cells": [
  {
   "cell_type": "code",
   "execution_count": 13,
   "metadata": {},
   "outputs": [
    {
     "name": "stdout",
     "output_type": "stream",
     "text": [
      "{'GLY', 'PHE', 'ARG', 'CYS', 'ASN', 'THR', 'ALA', 'LEU', 'GLN', 'HIS', 'LYS', 'SER', 'ILE', 'TYR', 'MET', 'ASP', 'TRP', 'VAL', 'PRO', 'GLU'}\n"
     ]
    }
   ],
   "source": [
    "import os\n",
    "\n",
    "resNames = set()\n",
    "\n",
    "for file in os.listdir('PDBSumFiles'):\n",
    "    with open(os.path.join('PDBSumFiles',file),'r') as data:\n",
    "        data = data.read().splitlines()\n",
    "        data = data[data.index('Non-bonded contacts')+7:]\n",
    "        data = data[:data.index('')]\n",
    "        for line in data:\n",
    "            line = line.rsplit()\n",
    "            if line[3] not in resNames: resNames.add(line[3])\n",
    "            if line[9] not in resNames: resNames.add(line[9])\n",
    "#             resNames.add(line[3])\n",
    "#             resNames.add(line[9])\n",
    "print(resNames)"
   ]
  },
  {
   "cell_type": "code",
   "execution_count": 25,
   "metadata": {},
   "outputs": [
    {
     "name": "stdout",
     "output_type": "stream",
     "text": [
      "Number of files processed:  57\n",
      "Run time:  0.015588521957397461\n",
      "Processing time:  0.015625\n"
     ]
    }
   ],
   "source": [
    "import os\n",
    "import time\n",
    "\n",
    "prevTime = time.time()\n",
    "prevClock = time.process_time()\n",
    "\n",
    "# I already ran a script to get me all possible resNames in the entire folder.\n",
    "# Setting up a list with them is much faster than dynamically creating them\n",
    "resNames=['HIS', 'GLU', 'ILE', 'GLN', 'SER', 'LEU', 'LYS', 'VAL', 'TYR', 'PHE', 'GLY', 'ASN', 'ASP', 'ALA', 'PRO', 'CYS', 'TRP', 'ARG', 'THR', 'MET']\n",
    "\n",
    "# Create a dictionary for all complementary interactions\n",
    "# This creates our NxN matrix with the elements being sets\n",
    "complements = dict()\n",
    "for A in resNames:\n",
    "    complements[A]=dict()\n",
    "    for B in resNames:\n",
    "        complements[A][B]=set()\n",
    "\n",
    "# loop through all files in the folder\n",
    "for file in os.listdir('PDBSumFiles'):\n",
    "    # Read the file\n",
    "    with open(os.path.join('PDBSumFiles',file),'r') as data:\n",
    "        \n",
    "        # Read data from the file and split it to lines\n",
    "        data = data.read().splitlines()\n",
    "        \n",
    "        # Remove data before Header we're looking for\n",
    "        # Skip 7 lines to get to the first row we require\n",
    "        data = data[data.index('Non-bonded contacts')+7:]\n",
    "        \n",
    "        # Remove the data after an empty line signifying end of data required\n",
    "        data = data[:data.index('')]\n",
    "        \n",
    "        # Loop through lines\n",
    "        for line in data:\n",
    "            # Split lines to fields delimited by spaces\n",
    "            line = line.rsplit()\n",
    "            \n",
    "            # Add the interactions to both sides of the matrix\n",
    "            complements[line[3]][line[9]].add(line[4]+'-'+line[10])\n",
    "            complements[line[9]][line[3]].add(line[10]+'-'+line[4])\n",
    "# Write the file\n",
    "with open('interactionStatistics.txt','w+') as file:\n",
    "    # First empty space. Using a string to build the row\n",
    "    # since I need to remove the last tab and add a newline\n",
    "    row = '\\t'\n",
    "    for name in resNames:\n",
    "        row+=name+'\\t'\n",
    "    file.write(row[:-1]+'\\n')\n",
    "    # Loop through every row and column and insert the number\n",
    "    # Of interactions there\n",
    "    for rowName in resNames:\n",
    "        row=rowName+'\\t'\n",
    "        for column in resNames:\n",
    "            row+=str(len(complements[rowName][column]))+'\\t'\n",
    "        file.write(row[:-1]+'\\n')\n",
    "print('Number of files processed: ',len(os.listdir('PDBSumFiles')))\n",
    "print('Run time: ',time.time()-prevTime)\n",
    "print('Processing time: ',time.process_time()-prevClock)"
   ]
  }
 ],
 "metadata": {
  "kernelspec": {
   "display_name": "Python 3",
   "language": "python",
   "name": "python3"
  },
  "language_info": {
   "codemirror_mode": {
    "name": "ipython",
    "version": 3
   },
   "file_extension": ".py",
   "mimetype": "text/x-python",
   "name": "python",
   "nbconvert_exporter": "python",
   "pygments_lexer": "ipython3",
   "version": "3.8.1"
  }
 },
 "nbformat": 4,
 "nbformat_minor": 4
}
